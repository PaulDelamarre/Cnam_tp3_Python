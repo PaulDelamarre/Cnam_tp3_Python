{
 "cells": [
  {
   "cell_type": "code",
   "execution_count": 160,
   "metadata": {},
   "outputs": [],
   "source": [
    "import random\n",
    "\n",
    "def generatePassword():\n",
    "    \"\"\" generate random password with char between 33 and 126 in the ASCII table\n",
    "\n",
    "    Returns:\n",
    "        str: a password with 8 characters\n",
    "    \"\"\"\n",
    "    password = \"\"\n",
    "    \n",
    "    for i in range(0,random.randint(8,20)):\n",
    "        password += chr(random.randint(33,126))\n",
    "    print(password)\n",
    "    return password\n",
    "    "
   ]
  },
  {
   "cell_type": "code",
   "execution_count": 161,
   "metadata": {},
   "outputs": [],
   "source": [
    "def checkPassword(password:str) ->str:\n",
    "    \"\"\"check the security level of password\n",
    "\n",
    "    Args:\n",
    "        password (str): the password to verify\n",
    "\n",
    "    Returns:\n",
    "        str: level of security\n",
    "    \"\"\"\n",
    "    #catch all ASCII symbole\n",
    "    symbole=[i for i in range(33,48)]\n",
    "    symbole+=[i for i in range(58,65)]\n",
    "    symbole+=[i for i in range(91,97)]\n",
    "    symbole+=[i for i in range(123,127)]\n",
    "    #catch all ASCII decimal\n",
    "    num=[i for i in range(48,58)]\n",
    "    #catch all ASCII Lower case\n",
    "    charLower=[i for i in range(97,123)]\n",
    "    #catch all ASCII Upper case\n",
    "    charUpper=[i for i in range(65,91)]\n",
    "    #create dictionnary to save required element\n",
    "    security = {'num':False,'chrLow':False,'chrUp':False,'symb':False}\n",
    "    # browse the string \n",
    "    for charactere in password:\n",
    "        if(ord(charactere) in num):\n",
    "            security['num']=True\n",
    "        if(ord(charactere) in charLower):\n",
    "            security['chrLow']=True\n",
    "        if(ord(charactere) in charUpper):\n",
    "            security['chrUp']=True\n",
    "        if(ord(charactere) in symbole):\n",
    "            security['symb']=True\n",
    "    print(security)\n",
    "    #give the level of security\n",
    "    if(security['num'] == True and security['chrLow'] == True):\n",
    "        if(security['chrUp']==True):\n",
    "            if(security['symb']==True):\n",
    "                return 'Forte'\n",
    "            else:\n",
    "                return 'Moyenne'\n",
    "        else:\n",
    "            return 'Faible'\n",
    "    else:\n",
    "        return 'Non Valable'\n",
    "        \n",
    "        "
   ]
  },
  {
   "cell_type": "code",
   "execution_count": 162,
   "metadata": {},
   "outputs": [
    {
     "name": "stdout",
     "output_type": "stream",
     "text": [
      ",'AY^HR>PZ9bHVJ/~/5\n",
      "{'num': True, 'chrLow': True, 'chrUp': True, 'symb': True}\n"
     ]
    },
    {
     "data": {
      "text/plain": [
       "'Forte'"
      ]
     },
     "execution_count": 162,
     "metadata": {},
     "output_type": "execute_result"
    }
   ],
   "source": [
    "checkPassword(generatePassword())\n"
   ]
  },
  {
   "cell_type": "code",
   "execution_count": 173,
   "metadata": {},
   "outputs": [],
   "source": [
    "def RSP() -> int :\n",
    "    \"\"\" play Rock Paper Scissors with recursive function\n",
    "\n",
    "    Returns:\n",
    "        int: return error\n",
    "    \"\"\"\n",
    "    winner=False\n",
    "    play1 = input(\"Coup du joueur 1 \\n Pierre :(1) Papier :(2) Ciseaux :(3)\")\n",
    "    #if input is not valid restart the game\n",
    "    if(play1 not in [\"1\",\"2\",\"3\"]):\n",
    "        print(\"mauvais chiffre\")\n",
    "        RSP()\n",
    "    else:\n",
    "        #if input is not valid restart the game\n",
    "        play2 = input(\"Coup du joueur 2 : Pierre :(1) Papier :(2) Ciseaux :(3)\")\n",
    "        if(play2 not in [\"1\",\"2\",\"3\"]):\n",
    "            print(\"mauvais chiffre\")\n",
    "            RSP()\n",
    "        else:\n",
    "            #if there are an equality restart the game\n",
    "            if(play1 == play2):\n",
    "                print(\"égalité\")\n",
    "                RSP()\n",
    "            elif(play1 == \"1\" and play2 == \"2\"):\n",
    "                print(\"Papier bat Pierre : play2 gagne\")\n",
    "    \n",
    "            elif(play1 == \"1\" and play2 == \"3\"):\n",
    "                print(\"Pierre bat Ciseaux : play1 gagne\")\n",
    "\n",
    "            elif(play1 == \"2\" and play2 == \"1\"):\n",
    "                print(\"Papier bat Pierre : play1 gagne\")\n",
    "\n",
    "            elif(play1 == \"2\" and play2 == \"3\"):\n",
    "                print(\"Ciseaux bat Papier : play2 gagne\")\n",
    "   \n",
    "            elif(play1 == \"3\" and play2 == \"1\"):\n",
    "                print(\"Pierre bat Ciseaux : play2 gagne\")\n",
    "                \n",
    "            elif(play1 == \"3\" and play2 == \"2\"):\n",
    "                print(\"Ciseaux bat Pierre : play1 gagne\")\n",
    "                \n",
    "            replay=\"\"\n",
    "            #if input is not valid ask again\n",
    "            while(replay == \"\"):\n",
    "                choice = input(\"Voulez vous rejouer ? Yes(y) or No(n)\")\n",
    "                print(choice)\n",
    "                if(choice==\"y\" or choice==\"n\"):\n",
    "                        if(choice==\"y\"):\n",
    "                            #if yes restart the game\n",
    "                            RSP()\n",
    "                        else:\n",
    "                            print(\"fin du jeu\")\n",
    "                            break\n",
    "    return 1\n",
    "                        "
   ]
  },
  {
   "cell_type": "code",
   "execution_count": 174,
   "metadata": {},
   "outputs": [
    {
     "name": "stdout",
     "output_type": "stream",
     "text": [
      "Ciseaux bat Papier : play2 gagne\n",
      "n\n",
      "fin du jeu\n"
     ]
    },
    {
     "data": {
      "text/plain": [
       "1"
      ]
     },
     "execution_count": 174,
     "metadata": {},
     "output_type": "execute_result"
    }
   ],
   "source": [
    "RSP()"
   ]
  },
  {
   "cell_type": "code",
   "execution_count": 190,
   "metadata": {},
   "outputs": [],
   "source": [
    "import random\n",
    "def NumGame(): \n",
    "    \"\"\"find the right number as fast as possible\n",
    "    \"\"\"\n",
    "    num1 = []\n",
    "    #create random number\n",
    "    for i in range(0,4):\n",
    "         num1 += str(random.randint(0,9))\n",
    "    winner = False\n",
    "    turn = 0\n",
    "    star = 0\n",
    "    hammer = 0\n",
    "    #check and give star or hammer\n",
    "    while(winner==False):\n",
    "        starTemp = 0\n",
    "        hammerTemp = 0\n",
    "        turn+=1\n",
    "        tryNum = input(\"Essayez de deviner le nombre\")\n",
    "        for i in range(0,4):\n",
    "            if(num1[i]==tryNum[i]):\n",
    "                starTemp+=1\n",
    "            else:\n",
    "                hammerTemp+=1\n",
    "        \n",
    "        star+=starTemp\n",
    "        hammer+=hammerTemp\n",
    "        print(\"proposition : \",tryNum)\n",
    "        print(\"nombre total d'étoile : \",starTemp)\n",
    "        print(\"nombre total de marteau : \",hammerTemp)\n",
    "        if(starTemp==4):\n",
    "            #if there are 4 stars you win\n",
    "            winner=True\n",
    "    #print stats of the game\n",
    "    print(\"neméro trouvé : \",num1)\n",
    "    print(\"nombre de tour: \" ,turn)\n",
    "    print(\"nombre total d'étoile : \",star)\n",
    "    print(\"nombre total de marteau : \",hammer)\n",
    "        \n",
    "    \n",
    "    "
   ]
  },
  {
   "cell_type": "code",
   "execution_count": 191,
   "metadata": {},
   "outputs": [
    {
     "name": "stdout",
     "output_type": "stream",
     "text": [
      "proposition :  3637\n",
      "nombre total d'étoile :  4\n",
      "nombre total de marteau :  0\n",
      "neméro trouvé :  ['3', '6', '3', '7']\n",
      "nombre de tour:  1\n",
      "nombre total d'étoile :  4\n",
      "nombre total de marteau :  0\n"
     ]
    }
   ],
   "source": [
    "NumGame()"
   ]
  }
 ],
 "metadata": {
  "interpreter": {
   "hash": "b0fa6594d8f4cbf19f97940f81e996739fb7646882a419484c72d19e05852a7e"
  },
  "kernelspec": {
   "display_name": "Python 3.9.8 64-bit",
   "language": "python",
   "name": "python3"
  },
  "language_info": {
   "codemirror_mode": {
    "name": "ipython",
    "version": 3
   },
   "file_extension": ".py",
   "mimetype": "text/x-python",
   "name": "python",
   "nbconvert_exporter": "python",
   "pygments_lexer": "ipython3",
   "version": "3.9.8"
  },
  "orig_nbformat": 4
 },
 "nbformat": 4,
 "nbformat_minor": 2
}
