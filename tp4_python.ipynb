{
 "cells": [
  {
   "cell_type": "code",
   "execution_count": 49,
   "metadata": {},
   "outputs": [],
   "source": [
    "import random\n",
    "\n",
    "def generatePassword():\n",
    "    \"\"\" generate random password with char between 33 and 126 in the ASCII table\n",
    "\n",
    "    Returns:\n",
    "        str: a password with 8 characters\n",
    "    \"\"\"\n",
    "    password = \"\"\n",
    "    \n",
    "    for i in range(0,random.randint(8,20)):\n",
    "        password += chr(random.randint(33,126))\n",
    "    print(password)\n",
    "    return password\n",
    "    "
   ]
  },
  {
   "cell_type": "code",
   "execution_count": 94,
   "metadata": {},
   "outputs": [],
   "source": [
    "def checkPassword(password:str):\n",
    "    \"\"\"check the security level of password\n",
    "\n",
    "    Args:\n",
    "        password (str): the password to verify\n",
    "\n",
    "    Returns:\n",
    "        str: level of security\n",
    "    \"\"\"\n",
    "    #catch all ASCII symbole\n",
    "    symbole=[i for i in range(33,48)]\n",
    "    symbole+=[i for i in range(58,65)]\n",
    "    symbole+=[i for i in range(91,97)]\n",
    "    symbole+=[i for i in range(123,127)]\n",
    "    #catch all ASCII decimal\n",
    "    num=[i for i in range(48,58)]\n",
    "    #catch all ASCII Lower case\n",
    "    charLower=[i for i in range(97,123)]\n",
    "    #catch all ASCII Upper case\n",
    "    charUpper=[i for i in range(65,91)]\n",
    "    #create dictionnary to save required element\n",
    "    security = {'num':False,'chrLow':False,'chrUp':False,'symb':False}\n",
    "    # browse the string \n",
    "    for charactere in password:\n",
    "        if(ord(charactere) in num):\n",
    "            security['num']=True\n",
    "        if(ord(charactere) in charLower):\n",
    "            security['chrLow']=True\n",
    "        if(ord(charactere) in charUpper):\n",
    "            security['chrUp']=True\n",
    "        if(ord(charactere) in symbole):\n",
    "            security['symb']=True\n",
    "    print(security)\n",
    "    #give the level of security\n",
    "    if(security['num'] == True and security['chrLow'] == True):\n",
    "        if(security['chrUp']==True):\n",
    "            if(security['symb']==True):\n",
    "                return 'Forte'\n",
    "            else:\n",
    "                return 'Moyenne'\n",
    "        else:\n",
    "            return 'Faible'\n",
    "    else:\n",
    "        return 'Nulle'\n",
    "        \n",
    "        "
   ]
  },
  {
   "cell_type": "code",
   "execution_count": 144,
   "metadata": {},
   "outputs": [
    {
     "name": "stdout",
     "output_type": "stream",
     "text": [
      ".|S3q.,]yV'`_@%xz\n",
      "{'num': True, 'chrLow': True, 'chrUp': True, 'symb': True}\n"
     ]
    },
    {
     "data": {
      "text/plain": [
       "'Forte'"
      ]
     },
     "execution_count": 144,
     "metadata": {},
     "output_type": "execute_result"
    }
   ],
   "source": [
    "checkPassword(generatePassword())\n"
   ]
  },
  {
   "cell_type": "code",
   "execution_count": null,
   "metadata": {},
   "outputs": [],
   "source": [
    "def RSP():\n",
    "    play1 = input(\"Coup du joueur 1 \\n Pierre :(1) Papier :(2) Ciseaux :(3)\")\n",
    "    if(play1 not in [1,2,3]):\n",
    "        print(\"mauvais chiffre\")\n",
    "        RSP()\n",
    "    else:\n",
    "        play2 = input(\"Coup du joueur 2 : Pierre :(1) Papier :(2) Ciseaux :(3)\")\n",
    "            if(play1 not in [1,2,3]):\n",
    "        print(\"mauvais chiffre\")\n",
    "        RSP()\n",
    "    else:"
   ]
  }
 ],
 "metadata": {
  "interpreter": {
   "hash": "b0fa6594d8f4cbf19f97940f81e996739fb7646882a419484c72d19e05852a7e"
  },
  "kernelspec": {
   "display_name": "Python 3.9.8 64-bit",
   "language": "python",
   "name": "python3"
  },
  "language_info": {
   "codemirror_mode": {
    "name": "ipython",
    "version": 3
   },
   "file_extension": ".py",
   "mimetype": "text/x-python",
   "name": "python",
   "nbconvert_exporter": "python",
   "pygments_lexer": "ipython3",
   "version": "3.9.8"
  },
  "orig_nbformat": 4
 },
 "nbformat": 4,
 "nbformat_minor": 2
}
